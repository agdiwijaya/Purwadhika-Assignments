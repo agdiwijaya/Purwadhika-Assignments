{
 "cells": [
  {
   "cell_type": "markdown",
   "metadata": {},
   "source": [
    "# Country Clustering using K-Means and Classification using Random Forest and SVM"
   ]
  },
  {
   "cell_type": "markdown",
   "metadata": {},
   "source": [
    "### COLUMNS DESCRIPTION\n",
    "`country` - Name of the country\\\n",
    "`child_mort` - Death of children under 5 years of age per 1000 live births\\\n",
    "`exports` - Exports of goods and services per capita. Given as %age of the GDP per capita\\\n",
    "`health` - Total health spending per capita. Given as %age of GDP per capita \\\n",
    "`imports` - Imports of goods and services per capita. Given as %age of the GDP per capita\\\n",
    "`Income` - Net income per person\\\n",
    "`Inflation` - The measurement of the annual growth rate of the Total GDP\\\n",
    "`life_expec` - The average number of years a new born child would live if the current mortality patterns are to remain the same\\\n",
    "`total_fer` - The number of children that would be born to each woman if the current age-fertility rates remain the same\\\n",
    "`gdpp` - The GDP per capita. Calculated as the Total GDP divided by the total population.\n",
    "\n",
    "Source : https://www.kaggle.com/rohan0301/unsupervised-learning-on-country-data"
   ]
  },
  {
   "cell_type": "markdown",
   "metadata": {},
   "source": [
    "### Pre-Processing Data"
   ]
  },
  {
   "cell_type": "markdown",
   "metadata": {},
   "source": [
    "**Import library and dataset**"
   ]
  },
  {
   "cell_type": "code",
   "execution_count": 15,
   "metadata": {},
   "outputs": [],
   "source": [
    "import numpy as np\n",
    "import pandas as pd\n",
    "import matplotlib.pyplot as plt\n",
    "import seaborn as sns\n",
    "\n",
    "from sklearn.model_selection import train_test_split, GridSearchCV, StratifiedKFold, RandomizedSearchCV\n",
    "from sklearn.pipeline import Pipeline\n",
    "from sklearn.impute import SimpleImputer\n",
    "from sklearn.preprocessing import RobustScaler, PowerTransformer, PolynomialFeatures, OneHotEncoder, StandardScaler, normalize\n",
    "from sklearn.compose import ColumnTransformer\n",
    "\n",
    "from sklearn.svm import SVC\n",
    "from sklearn.neighbors import KNeighborsClassifier\n",
    "from sklearn.ensemble import RandomForestClassifier\n",
    "from sklearn.linear_model import LogisticRegression\n",
    "\n",
    "from sklearn.metrics import accuracy_score, classification_report, confusion_matrix\n",
    "\n",
    "import dython\n",
    "from dython.nominal import associations, cramers_v, correlation_ratio, theils_u\n",
    "import dateparser\n",
    "import warnings\n",
    "warnings.filterwarnings('ignore')\n",
    "pd.set_option('display.float_format', lambda x: '%.2f' % x)\n",
    "pd.options.display.max_columns = 999\n",
    "\n",
    "#unsupervised\n",
    "from sklearn.decomposition import PCA\n",
    "from sklearn.cluster import KMeans\n",
    "from sklearn.cluster import AgglomerativeClustering\n",
    "from sklearn.metrics import silhouette_score\n",
    "from scipy.cluster.hierarchy import linkage, dendrogram\n",
    "from sklearn.mixture import GaussianMixture"
   ]
  },
  {
   "cell_type": "code",
   "execution_count": 2,
   "metadata": {},
   "outputs": [
    {
     "data": {
      "text/html": [
       "<div>\n",
       "<style scoped>\n",
       "    .dataframe tbody tr th:only-of-type {\n",
       "        vertical-align: middle;\n",
       "    }\n",
       "\n",
       "    .dataframe tbody tr th {\n",
       "        vertical-align: top;\n",
       "    }\n",
       "\n",
       "    .dataframe thead th {\n",
       "        text-align: right;\n",
       "    }\n",
       "</style>\n",
       "<table border=\"1\" class=\"dataframe\">\n",
       "  <thead>\n",
       "    <tr style=\"text-align: right;\">\n",
       "      <th></th>\n",
       "      <th>country</th>\n",
       "      <th>child_mort</th>\n",
       "      <th>exports</th>\n",
       "      <th>health</th>\n",
       "      <th>imports</th>\n",
       "      <th>income</th>\n",
       "      <th>inflation</th>\n",
       "      <th>life_expec</th>\n",
       "      <th>total_fer</th>\n",
       "      <th>gdpp</th>\n",
       "    </tr>\n",
       "  </thead>\n",
       "  <tbody>\n",
       "    <tr>\n",
       "      <th>0</th>\n",
       "      <td>Afghanistan</td>\n",
       "      <td>90.20</td>\n",
       "      <td>10.00</td>\n",
       "      <td>7.58</td>\n",
       "      <td>44.90</td>\n",
       "      <td>1610</td>\n",
       "      <td>9.44</td>\n",
       "      <td>56.20</td>\n",
       "      <td>5.82</td>\n",
       "      <td>553</td>\n",
       "    </tr>\n",
       "    <tr>\n",
       "      <th>1</th>\n",
       "      <td>Albania</td>\n",
       "      <td>16.60</td>\n",
       "      <td>28.00</td>\n",
       "      <td>6.55</td>\n",
       "      <td>48.60</td>\n",
       "      <td>9930</td>\n",
       "      <td>4.49</td>\n",
       "      <td>76.30</td>\n",
       "      <td>1.65</td>\n",
       "      <td>4090</td>\n",
       "    </tr>\n",
       "    <tr>\n",
       "      <th>2</th>\n",
       "      <td>Algeria</td>\n",
       "      <td>27.30</td>\n",
       "      <td>38.40</td>\n",
       "      <td>4.17</td>\n",
       "      <td>31.40</td>\n",
       "      <td>12900</td>\n",
       "      <td>16.10</td>\n",
       "      <td>76.50</td>\n",
       "      <td>2.89</td>\n",
       "      <td>4460</td>\n",
       "    </tr>\n",
       "    <tr>\n",
       "      <th>3</th>\n",
       "      <td>Angola</td>\n",
       "      <td>119.00</td>\n",
       "      <td>62.30</td>\n",
       "      <td>2.85</td>\n",
       "      <td>42.90</td>\n",
       "      <td>5900</td>\n",
       "      <td>22.40</td>\n",
       "      <td>60.10</td>\n",
       "      <td>6.16</td>\n",
       "      <td>3530</td>\n",
       "    </tr>\n",
       "    <tr>\n",
       "      <th>4</th>\n",
       "      <td>Antigua and Barbuda</td>\n",
       "      <td>10.30</td>\n",
       "      <td>45.50</td>\n",
       "      <td>6.03</td>\n",
       "      <td>58.90</td>\n",
       "      <td>19100</td>\n",
       "      <td>1.44</td>\n",
       "      <td>76.80</td>\n",
       "      <td>2.13</td>\n",
       "      <td>12200</td>\n",
       "    </tr>\n",
       "  </tbody>\n",
       "</table>\n",
       "</div>"
      ],
      "text/plain": [
       "               country  child_mort  exports  health  imports  income  \\\n",
       "0          Afghanistan       90.20    10.00    7.58    44.90    1610   \n",
       "1              Albania       16.60    28.00    6.55    48.60    9930   \n",
       "2              Algeria       27.30    38.40    4.17    31.40   12900   \n",
       "3               Angola      119.00    62.30    2.85    42.90    5900   \n",
       "4  Antigua and Barbuda       10.30    45.50    6.03    58.90   19100   \n",
       "\n",
       "   inflation  life_expec  total_fer   gdpp  \n",
       "0       9.44       56.20       5.82    553  \n",
       "1       4.49       76.30       1.65   4090  \n",
       "2      16.10       76.50       2.89   4460  \n",
       "3      22.40       60.10       6.16   3530  \n",
       "4       1.44       76.80       2.13  12200  "
      ]
     },
     "execution_count": 2,
     "metadata": {},
     "output_type": "execute_result"
    }
   ],
   "source": [
    "df = pd.read_csv(r'C:\\Users\\Administrator\\OneDrive\\data science\\purwadhika\\job connector\\kumpulan latihan\\modul 3\\dataset\\Country-data.csv')\n",
    "df.head()"
   ]
  },
  {
   "cell_type": "code",
   "execution_count": 3,
   "metadata": {},
   "outputs": [
    {
     "data": {
      "text/plain": [
       "Index(['country', 'child_mort', 'exports', 'health', 'imports', 'income',\n",
       "       'inflation', 'life_expec', 'total_fer', 'gdpp'],\n",
       "      dtype='object')"
      ]
     },
     "execution_count": 3,
     "metadata": {},
     "output_type": "execute_result"
    }
   ],
   "source": [
    "df.columns"
   ]
  },
  {
   "cell_type": "code",
   "execution_count": 4,
   "metadata": {},
   "outputs": [
    {
     "data": {
      "text/plain": [
       "(167, 10)"
      ]
     },
     "execution_count": 4,
     "metadata": {},
     "output_type": "execute_result"
    }
   ],
   "source": [
    "df.shape"
   ]
  },
  {
   "cell_type": "code",
   "execution_count": 5,
   "metadata": {},
   "outputs": [
    {
     "data": {
      "text/html": [
       "<div>\n",
       "<style scoped>\n",
       "    .dataframe tbody tr th:only-of-type {\n",
       "        vertical-align: middle;\n",
       "    }\n",
       "\n",
       "    .dataframe tbody tr th {\n",
       "        vertical-align: top;\n",
       "    }\n",
       "\n",
       "    .dataframe thead th {\n",
       "        text-align: right;\n",
       "    }\n",
       "</style>\n",
       "<table border=\"1\" class=\"dataframe\">\n",
       "  <thead>\n",
       "    <tr style=\"text-align: right;\">\n",
       "      <th></th>\n",
       "      <th>child_mort</th>\n",
       "      <th>exports</th>\n",
       "      <th>health</th>\n",
       "      <th>imports</th>\n",
       "      <th>income</th>\n",
       "      <th>inflation</th>\n",
       "      <th>life_expec</th>\n",
       "      <th>total_fer</th>\n",
       "      <th>gdpp</th>\n",
       "    </tr>\n",
       "  </thead>\n",
       "  <tbody>\n",
       "    <tr>\n",
       "      <th>count</th>\n",
       "      <td>167.00</td>\n",
       "      <td>167.00</td>\n",
       "      <td>167.00</td>\n",
       "      <td>167.00</td>\n",
       "      <td>167.00</td>\n",
       "      <td>167.00</td>\n",
       "      <td>167.00</td>\n",
       "      <td>167.00</td>\n",
       "      <td>167.00</td>\n",
       "    </tr>\n",
       "    <tr>\n",
       "      <th>mean</th>\n",
       "      <td>38.27</td>\n",
       "      <td>41.11</td>\n",
       "      <td>6.82</td>\n",
       "      <td>46.89</td>\n",
       "      <td>17144.69</td>\n",
       "      <td>7.78</td>\n",
       "      <td>70.56</td>\n",
       "      <td>2.95</td>\n",
       "      <td>12964.16</td>\n",
       "    </tr>\n",
       "    <tr>\n",
       "      <th>std</th>\n",
       "      <td>40.33</td>\n",
       "      <td>27.41</td>\n",
       "      <td>2.75</td>\n",
       "      <td>24.21</td>\n",
       "      <td>19278.07</td>\n",
       "      <td>10.57</td>\n",
       "      <td>8.89</td>\n",
       "      <td>1.51</td>\n",
       "      <td>18328.70</td>\n",
       "    </tr>\n",
       "    <tr>\n",
       "      <th>min</th>\n",
       "      <td>2.60</td>\n",
       "      <td>0.11</td>\n",
       "      <td>1.81</td>\n",
       "      <td>0.07</td>\n",
       "      <td>609.00</td>\n",
       "      <td>-4.21</td>\n",
       "      <td>32.10</td>\n",
       "      <td>1.15</td>\n",
       "      <td>231.00</td>\n",
       "    </tr>\n",
       "    <tr>\n",
       "      <th>25%</th>\n",
       "      <td>8.25</td>\n",
       "      <td>23.80</td>\n",
       "      <td>4.92</td>\n",
       "      <td>30.20</td>\n",
       "      <td>3355.00</td>\n",
       "      <td>1.81</td>\n",
       "      <td>65.30</td>\n",
       "      <td>1.79</td>\n",
       "      <td>1330.00</td>\n",
       "    </tr>\n",
       "    <tr>\n",
       "      <th>50%</th>\n",
       "      <td>19.30</td>\n",
       "      <td>35.00</td>\n",
       "      <td>6.32</td>\n",
       "      <td>43.30</td>\n",
       "      <td>9960.00</td>\n",
       "      <td>5.39</td>\n",
       "      <td>73.10</td>\n",
       "      <td>2.41</td>\n",
       "      <td>4660.00</td>\n",
       "    </tr>\n",
       "    <tr>\n",
       "      <th>75%</th>\n",
       "      <td>62.10</td>\n",
       "      <td>51.35</td>\n",
       "      <td>8.60</td>\n",
       "      <td>58.75</td>\n",
       "      <td>22800.00</td>\n",
       "      <td>10.75</td>\n",
       "      <td>76.80</td>\n",
       "      <td>3.88</td>\n",
       "      <td>14050.00</td>\n",
       "    </tr>\n",
       "    <tr>\n",
       "      <th>max</th>\n",
       "      <td>208.00</td>\n",
       "      <td>200.00</td>\n",
       "      <td>17.90</td>\n",
       "      <td>174.00</td>\n",
       "      <td>125000.00</td>\n",
       "      <td>104.00</td>\n",
       "      <td>82.80</td>\n",
       "      <td>7.49</td>\n",
       "      <td>105000.00</td>\n",
       "    </tr>\n",
       "  </tbody>\n",
       "</table>\n",
       "</div>"
      ],
      "text/plain": [
       "       child_mort  exports  health  imports    income  inflation  life_expec  \\\n",
       "count      167.00   167.00  167.00   167.00    167.00     167.00      167.00   \n",
       "mean        38.27    41.11    6.82    46.89  17144.69       7.78       70.56   \n",
       "std         40.33    27.41    2.75    24.21  19278.07      10.57        8.89   \n",
       "min          2.60     0.11    1.81     0.07    609.00      -4.21       32.10   \n",
       "25%          8.25    23.80    4.92    30.20   3355.00       1.81       65.30   \n",
       "50%         19.30    35.00    6.32    43.30   9960.00       5.39       73.10   \n",
       "75%         62.10    51.35    8.60    58.75  22800.00      10.75       76.80   \n",
       "max        208.00   200.00   17.90   174.00 125000.00     104.00       82.80   \n",
       "\n",
       "       total_fer      gdpp  \n",
       "count     167.00    167.00  \n",
       "mean        2.95  12964.16  \n",
       "std         1.51  18328.70  \n",
       "min         1.15    231.00  \n",
       "25%         1.79   1330.00  \n",
       "50%         2.41   4660.00  \n",
       "75%         3.88  14050.00  \n",
       "max         7.49 105000.00  "
      ]
     },
     "execution_count": 5,
     "metadata": {},
     "output_type": "execute_result"
    }
   ],
   "source": [
    "df.describe()"
   ]
  },
  {
   "cell_type": "markdown",
   "metadata": {},
   "source": [
    "**Note** : there are many outliers (look at the max value) but we can't drop them because they may contain important information, so we treat the outliers as extreme values."
   ]
  },
  {
   "cell_type": "markdown",
   "metadata": {},
   "source": [
    "# Data Cleaning"
   ]
  },
  {
   "cell_type": "code",
   "execution_count": 3,
   "metadata": {},
   "outputs": [],
   "source": [
    "## Checking Data"
   ]
  },
  {
   "cell_type": "code",
   "execution_count": 9,
   "metadata": {},
   "outputs": [],
   "source": [
    "countryDesc = []\n",
    "\n",
    "for i in df.columns:\n",
    "    countryDesc.append([\n",
    "        i,\n",
    "        df[i].dtypes,\n",
    "        df[i].isna().sum(),\n",
    "        (((df[i].isna().sum()) / len(df)) * 100).round(2),\n",
    "        df[i].nunique(),\n",
    "        df[i].drop_duplicates().sample(2).values\n",
    "    ])"
   ]
  },
  {
   "cell_type": "code",
   "execution_count": 10,
   "metadata": {},
   "outputs": [
    {
     "data": {
      "text/html": [
       "<div>\n",
       "<style scoped>\n",
       "    .dataframe tbody tr th:only-of-type {\n",
       "        vertical-align: middle;\n",
       "    }\n",
       "\n",
       "    .dataframe tbody tr th {\n",
       "        vertical-align: top;\n",
       "    }\n",
       "\n",
       "    .dataframe thead th {\n",
       "        text-align: right;\n",
       "    }\n",
       "</style>\n",
       "<table border=\"1\" class=\"dataframe\">\n",
       "  <thead>\n",
       "    <tr style=\"text-align: right;\">\n",
       "      <th></th>\n",
       "      <th>Data Feature</th>\n",
       "      <th>Data Types</th>\n",
       "      <th>Null</th>\n",
       "      <th>Null Pct</th>\n",
       "      <th>Unique</th>\n",
       "      <th>Unique Sample</th>\n",
       "    </tr>\n",
       "  </thead>\n",
       "  <tbody>\n",
       "    <tr>\n",
       "      <th>0</th>\n",
       "      <td>country</td>\n",
       "      <td>object</td>\n",
       "      <td>0</td>\n",
       "      <td>0.00</td>\n",
       "      <td>167</td>\n",
       "      <td>[Macedonia, FYR, Barbados]</td>\n",
       "    </tr>\n",
       "    <tr>\n",
       "      <th>1</th>\n",
       "      <td>child_mort</td>\n",
       "      <td>float64</td>\n",
       "      <td>0</td>\n",
       "      <td>0.00</td>\n",
       "      <td>139</td>\n",
       "      <td>[123.0, 19.1]</td>\n",
       "    </tr>\n",
       "    <tr>\n",
       "      <th>2</th>\n",
       "      <td>exports</td>\n",
       "      <td>float64</td>\n",
       "      <td>0</td>\n",
       "      <td>0.00</td>\n",
       "      <td>147</td>\n",
       "      <td>[23.5, 29.1]</td>\n",
       "    </tr>\n",
       "    <tr>\n",
       "      <th>3</th>\n",
       "      <td>health</td>\n",
       "      <td>float64</td>\n",
       "      <td>0</td>\n",
       "      <td>0.00</td>\n",
       "      <td>147</td>\n",
       "      <td>[6.03, 3.4]</td>\n",
       "    </tr>\n",
       "    <tr>\n",
       "      <th>4</th>\n",
       "      <td>imports</td>\n",
       "      <td>float64</td>\n",
       "      <td>0</td>\n",
       "      <td>0.00</td>\n",
       "      <td>151</td>\n",
       "      <td>[41.2, 36.6]</td>\n",
       "    </tr>\n",
       "    <tr>\n",
       "      <th>5</th>\n",
       "      <td>income</td>\n",
       "      <td>int64</td>\n",
       "      <td>0</td>\n",
       "      <td>0.00</td>\n",
       "      <td>156</td>\n",
       "      <td>[9960, 12000]</td>\n",
       "    </tr>\n",
       "    <tr>\n",
       "      <th>6</th>\n",
       "      <td>inflation</td>\n",
       "      <td>float64</td>\n",
       "      <td>0</td>\n",
       "      <td>0.00</td>\n",
       "      <td>156</td>\n",
       "      <td>[0.16, -4.21]</td>\n",
       "    </tr>\n",
       "    <tr>\n",
       "      <th>7</th>\n",
       "      <td>life_expec</td>\n",
       "      <td>float64</td>\n",
       "      <td>0</td>\n",
       "      <td>0.00</td>\n",
       "      <td>127</td>\n",
       "      <td>[75.8, 82.8]</td>\n",
       "    </tr>\n",
       "    <tr>\n",
       "      <th>8</th>\n",
       "      <td>total_fer</td>\n",
       "      <td>float64</td>\n",
       "      <td>0</td>\n",
       "      <td>0.00</td>\n",
       "      <td>138</td>\n",
       "      <td>[1.25, 5.27]</td>\n",
       "    </tr>\n",
       "    <tr>\n",
       "      <th>9</th>\n",
       "      <td>gdpp</td>\n",
       "      <td>int64</td>\n",
       "      <td>0</td>\n",
       "      <td>0.00</td>\n",
       "      <td>157</td>\n",
       "      <td>[16000, 12600]</td>\n",
       "    </tr>\n",
       "  </tbody>\n",
       "</table>\n",
       "</div>"
      ],
      "text/plain": [
       "  Data Feature Data Types  Null  Null Pct  Unique               Unique Sample\n",
       "0      country     object     0      0.00     167  [Macedonia, FYR, Barbados]\n",
       "1   child_mort    float64     0      0.00     139               [123.0, 19.1]\n",
       "2      exports    float64     0      0.00     147                [23.5, 29.1]\n",
       "3       health    float64     0      0.00     147                 [6.03, 3.4]\n",
       "4      imports    float64     0      0.00     151                [41.2, 36.6]\n",
       "5       income      int64     0      0.00     156               [9960, 12000]\n",
       "6    inflation    float64     0      0.00     156               [0.16, -4.21]\n",
       "7   life_expec    float64     0      0.00     127                [75.8, 82.8]\n",
       "8    total_fer    float64     0      0.00     138                [1.25, 5.27]\n",
       "9         gdpp      int64     0      0.00     157              [16000, 12600]"
      ]
     },
     "execution_count": 10,
     "metadata": {},
     "output_type": "execute_result"
    }
   ],
   "source": [
    "pd.DataFrame(data = countryDesc, columns= [\n",
    "    'Data Feature',\n",
    "    'Data Types',\n",
    "    'Null',\n",
    "    'Null Pct',\n",
    "    'Unique',\n",
    "    'Unique Sample'\n",
    "] )"
   ]
  },
  {
   "cell_type": "markdown",
   "metadata": {},
   "source": [
    "**Note :** No missing value in this dataset"
   ]
  },
  {
   "cell_type": "markdown",
   "metadata": {},
   "source": [
    "**Note :** Country Name has data types object, so we can drop it for the modelling"
   ]
  },
  {
   "cell_type": "code",
   "execution_count": 11,
   "metadata": {},
   "outputs": [
    {
     "data": {
      "text/html": [
       "<div>\n",
       "<style scoped>\n",
       "    .dataframe tbody tr th:only-of-type {\n",
       "        vertical-align: middle;\n",
       "    }\n",
       "\n",
       "    .dataframe tbody tr th {\n",
       "        vertical-align: top;\n",
       "    }\n",
       "\n",
       "    .dataframe thead th {\n",
       "        text-align: right;\n",
       "    }\n",
       "</style>\n",
       "<table border=\"1\" class=\"dataframe\">\n",
       "  <thead>\n",
       "    <tr style=\"text-align: right;\">\n",
       "      <th></th>\n",
       "      <th>child_mort</th>\n",
       "      <th>exports</th>\n",
       "      <th>health</th>\n",
       "      <th>imports</th>\n",
       "      <th>income</th>\n",
       "      <th>inflation</th>\n",
       "      <th>life_expec</th>\n",
       "      <th>total_fer</th>\n",
       "      <th>gdpp</th>\n",
       "    </tr>\n",
       "  </thead>\n",
       "  <tbody>\n",
       "    <tr>\n",
       "      <th>0</th>\n",
       "      <td>90.20</td>\n",
       "      <td>10.00</td>\n",
       "      <td>7.58</td>\n",
       "      <td>44.90</td>\n",
       "      <td>1610</td>\n",
       "      <td>9.44</td>\n",
       "      <td>56.20</td>\n",
       "      <td>5.82</td>\n",
       "      <td>553</td>\n",
       "    </tr>\n",
       "    <tr>\n",
       "      <th>1</th>\n",
       "      <td>16.60</td>\n",
       "      <td>28.00</td>\n",
       "      <td>6.55</td>\n",
       "      <td>48.60</td>\n",
       "      <td>9930</td>\n",
       "      <td>4.49</td>\n",
       "      <td>76.30</td>\n",
       "      <td>1.65</td>\n",
       "      <td>4090</td>\n",
       "    </tr>\n",
       "    <tr>\n",
       "      <th>2</th>\n",
       "      <td>27.30</td>\n",
       "      <td>38.40</td>\n",
       "      <td>4.17</td>\n",
       "      <td>31.40</td>\n",
       "      <td>12900</td>\n",
       "      <td>16.10</td>\n",
       "      <td>76.50</td>\n",
       "      <td>2.89</td>\n",
       "      <td>4460</td>\n",
       "    </tr>\n",
       "    <tr>\n",
       "      <th>3</th>\n",
       "      <td>119.00</td>\n",
       "      <td>62.30</td>\n",
       "      <td>2.85</td>\n",
       "      <td>42.90</td>\n",
       "      <td>5900</td>\n",
       "      <td>22.40</td>\n",
       "      <td>60.10</td>\n",
       "      <td>6.16</td>\n",
       "      <td>3530</td>\n",
       "    </tr>\n",
       "    <tr>\n",
       "      <th>4</th>\n",
       "      <td>10.30</td>\n",
       "      <td>45.50</td>\n",
       "      <td>6.03</td>\n",
       "      <td>58.90</td>\n",
       "      <td>19100</td>\n",
       "      <td>1.44</td>\n",
       "      <td>76.80</td>\n",
       "      <td>2.13</td>\n",
       "      <td>12200</td>\n",
       "    </tr>\n",
       "    <tr>\n",
       "      <th>...</th>\n",
       "      <td>...</td>\n",
       "      <td>...</td>\n",
       "      <td>...</td>\n",
       "      <td>...</td>\n",
       "      <td>...</td>\n",
       "      <td>...</td>\n",
       "      <td>...</td>\n",
       "      <td>...</td>\n",
       "      <td>...</td>\n",
       "    </tr>\n",
       "    <tr>\n",
       "      <th>162</th>\n",
       "      <td>29.20</td>\n",
       "      <td>46.60</td>\n",
       "      <td>5.25</td>\n",
       "      <td>52.70</td>\n",
       "      <td>2950</td>\n",
       "      <td>2.62</td>\n",
       "      <td>63.00</td>\n",
       "      <td>3.50</td>\n",
       "      <td>2970</td>\n",
       "    </tr>\n",
       "    <tr>\n",
       "      <th>163</th>\n",
       "      <td>17.10</td>\n",
       "      <td>28.50</td>\n",
       "      <td>4.91</td>\n",
       "      <td>17.60</td>\n",
       "      <td>16500</td>\n",
       "      <td>45.90</td>\n",
       "      <td>75.40</td>\n",
       "      <td>2.47</td>\n",
       "      <td>13500</td>\n",
       "    </tr>\n",
       "    <tr>\n",
       "      <th>164</th>\n",
       "      <td>23.30</td>\n",
       "      <td>72.00</td>\n",
       "      <td>6.84</td>\n",
       "      <td>80.20</td>\n",
       "      <td>4490</td>\n",
       "      <td>12.10</td>\n",
       "      <td>73.10</td>\n",
       "      <td>1.95</td>\n",
       "      <td>1310</td>\n",
       "    </tr>\n",
       "    <tr>\n",
       "      <th>165</th>\n",
       "      <td>56.30</td>\n",
       "      <td>30.00</td>\n",
       "      <td>5.18</td>\n",
       "      <td>34.40</td>\n",
       "      <td>4480</td>\n",
       "      <td>23.60</td>\n",
       "      <td>67.50</td>\n",
       "      <td>4.67</td>\n",
       "      <td>1310</td>\n",
       "    </tr>\n",
       "    <tr>\n",
       "      <th>166</th>\n",
       "      <td>83.10</td>\n",
       "      <td>37.00</td>\n",
       "      <td>5.89</td>\n",
       "      <td>30.90</td>\n",
       "      <td>3280</td>\n",
       "      <td>14.00</td>\n",
       "      <td>52.00</td>\n",
       "      <td>5.40</td>\n",
       "      <td>1460</td>\n",
       "    </tr>\n",
       "  </tbody>\n",
       "</table>\n",
       "<p>167 rows × 9 columns</p>\n",
       "</div>"
      ],
      "text/plain": [
       "     child_mort  exports  health  imports  income  inflation  life_expec  \\\n",
       "0         90.20    10.00    7.58    44.90    1610       9.44       56.20   \n",
       "1         16.60    28.00    6.55    48.60    9930       4.49       76.30   \n",
       "2         27.30    38.40    4.17    31.40   12900      16.10       76.50   \n",
       "3        119.00    62.30    2.85    42.90    5900      22.40       60.10   \n",
       "4         10.30    45.50    6.03    58.90   19100       1.44       76.80   \n",
       "..          ...      ...     ...      ...     ...        ...         ...   \n",
       "162       29.20    46.60    5.25    52.70    2950       2.62       63.00   \n",
       "163       17.10    28.50    4.91    17.60   16500      45.90       75.40   \n",
       "164       23.30    72.00    6.84    80.20    4490      12.10       73.10   \n",
       "165       56.30    30.00    5.18    34.40    4480      23.60       67.50   \n",
       "166       83.10    37.00    5.89    30.90    3280      14.00       52.00   \n",
       "\n",
       "     total_fer   gdpp  \n",
       "0         5.82    553  \n",
       "1         1.65   4090  \n",
       "2         2.89   4460  \n",
       "3         6.16   3530  \n",
       "4         2.13  12200  \n",
       "..         ...    ...  \n",
       "162       3.50   2970  \n",
       "163       2.47  13500  \n",
       "164       1.95   1310  \n",
       "165       4.67   1310  \n",
       "166       5.40   1460  \n",
       "\n",
       "[167 rows x 9 columns]"
      ]
     },
     "execution_count": 11,
     "metadata": {},
     "output_type": "execute_result"
    }
   ],
   "source": [
    "df_segment = df.drop('country', axis=1)\n",
    "df_segment"
   ]
  },
  {
   "cell_type": "markdown",
   "metadata": {},
   "source": [
    "### Data Normalization"
   ]
  },
  {
   "cell_type": "code",
   "execution_count": 12,
   "metadata": {},
   "outputs": [],
   "source": [
    "scaler = StandardScaler() \n",
    "scaled_df = scaler.fit_transform(df_segment) "
   ]
  },
  {
   "cell_type": "code",
   "execution_count": 13,
   "metadata": {},
   "outputs": [],
   "source": [
    "# Normalizing the Data \n",
    "normalized_df = normalize(scaled_df) \n",
    "  \n",
    "# Converting the numpy array into a pandas DataFrame \n",
    "normalized_df = pd.DataFrame(normalized_df) "
   ]
  },
  {
   "cell_type": "markdown",
   "metadata": {},
   "source": [
    "### Dimension Reduction using PCA"
   ]
  },
  {
   "cell_type": "markdown",
   "metadata": {},
   "source": [
    "We apply Principal Component Analysis (PCA) to transform data to 2 dimensions for visualization because we won't be able to visualize the data in 9 dimensions. PCA transforms a large set of variables into a smaller one that still contains most of the information in the large set. Reducing the number of variables of a data."
   ]
  },
  {
   "cell_type": "code",
   "execution_count": 16,
   "metadata": {},
   "outputs": [
    {
     "data": {
      "text/html": [
       "<div>\n",
       "<style scoped>\n",
       "    .dataframe tbody tr th:only-of-type {\n",
       "        vertical-align: middle;\n",
       "    }\n",
       "\n",
       "    .dataframe tbody tr th {\n",
       "        vertical-align: top;\n",
       "    }\n",
       "\n",
       "    .dataframe thead th {\n",
       "        text-align: right;\n",
       "    }\n",
       "</style>\n",
       "<table border=\"1\" class=\"dataframe\">\n",
       "  <thead>\n",
       "    <tr style=\"text-align: right;\">\n",
       "      <th></th>\n",
       "      <th>P1</th>\n",
       "      <th>P2</th>\n",
       "    </tr>\n",
       "  </thead>\n",
       "  <tbody>\n",
       "    <tr>\n",
       "      <th>0</th>\n",
       "      <td>0.93</td>\n",
       "      <td>-0.05</td>\n",
       "    </tr>\n",
       "    <tr>\n",
       "      <th>1</th>\n",
       "      <td>-0.43</td>\n",
       "      <td>-0.14</td>\n",
       "    </tr>\n",
       "  </tbody>\n",
       "</table>\n",
       "</div>"
      ],
      "text/plain": [
       "     P1    P2\n",
       "0  0.93 -0.05\n",
       "1 -0.43 -0.14"
      ]
     },
     "execution_count": 16,
     "metadata": {},
     "output_type": "execute_result"
    }
   ],
   "source": [
    "pca = PCA(n_components = 2) \n",
    "X_principal = pca.fit_transform(normalized_df) \n",
    "X_principal = pd.DataFrame(X_principal) \n",
    "X_principal.columns = ['P1', 'P2'] \n",
    "X_principal.head(2)"
   ]
  },
  {
   "cell_type": "markdown",
   "metadata": {},
   "source": [
    "### Clustering"
   ]
  },
  {
   "cell_type": "markdown",
   "metadata": {},
   "source": [
    "#### Choosing the K"
   ]
  },
  {
   "cell_type": "markdown",
   "metadata": {},
   "source": [
    "**SSE**"
   ]
  },
  {
   "cell_type": "code",
   "execution_count": 17,
   "metadata": {},
   "outputs": [
    {
     "data": {
      "image/png": "[encoded data removed]",
      "text/plain": [
       "<Figure size 432x288 with 1 Axes>"
      ]
     },
     "metadata": {
      "needs_background": "light"
     },
     "output_type": "display_data"
    }
   ],
   "source": [
    "sse = {}\n",
    "for k in range(1, 15):\n",
    "    kmeans = KMeans(n_clusters=k, max_iter=1000).fit(X_principal)\n",
    "    sse[k] = kmeans.inertia_ # Inertia: Sum of distances of samples to their closest cluster center\n",
    "plt.figure()\n",
    "plt.plot(list(sse.keys()), list(sse.values()))\n",
    "plt.xlabel(\"Number of cluster\")\n",
    "plt.ylabel(\"SSE\")\n",
    "plt.show()"
   ]
  },
  {
   "cell_type": "markdown",
   "metadata": {},
   "source": [
    "It's hard to find the elbow point of the curve, so we use **silhouette score**."
   ]
  },
  {
   "cell_type": "code",
   "execution_count": 18,
   "metadata": {},
   "outputs": [
    {
     "data": {
      "image/png": "[encoded data removed]",
      "text/plain": [
       "<Figure size 432x288 with 1 Axes>"
      ]
     },
     "metadata": {
      "needs_background": "light"
     },
     "output_type": "display_data"
    }
   ],
   "source": [
    "silhouette_scores = []\n",
    "\n",
    "for n_cluster in range(2, 8):\n",
    "    silhouette_scores.append( \n",
    "        silhouette_score(X_principal, KMeans(n_clusters = n_cluster).fit_predict(X_principal))) \n",
    "    \n",
    "# Plotting a bar graph to compare the results \n",
    "k = [2, 3, 4, 5, 6, 7] \n",
    "plt.bar(k, silhouette_scores) \n",
    "plt.xlabel('Number of clusters', fontsize = 10) \n",
    "plt.ylabel('Silhouette Score', fontsize = 10) \n",
    "plt.show() "
   ]
  },
  {
   "cell_type": "markdown",
   "metadata": {},
   "source": [
    "**Note :** Highest silhouette score is **k = 2**."
   ]
  },
  {
   "cell_type": "code",
   "execution_count": 19,
   "metadata": {},
   "outputs": [],
   "source": [
    "kmean= KMeans(2)\n",
    "kmean.fit(scaled_df)\n",
    "labels=kmean.labels_"
   ]
  },
  {
   "cell_type": "code",
   "execution_count": 20,
   "metadata": {},
   "outputs": [
    {
     "data": {
      "text/html": [
       "<div>\n",
       "<style scoped>\n",
       "    .dataframe tbody tr th:only-of-type {\n",
       "        vertical-align: middle;\n",
       "    }\n",
       "\n",
       "    .dataframe tbody tr th {\n",
       "        vertical-align: top;\n",
       "    }\n",
       "\n",
       "    .dataframe thead th {\n",
       "        text-align: right;\n",
       "    }\n",
       "</style>\n",
       "<table border=\"1\" class=\"dataframe\">\n",
       "  <thead>\n",
       "    <tr style=\"text-align: right;\">\n",
       "      <th></th>\n",
       "      <th>country</th>\n",
       "      <th>child_mort</th>\n",
       "      <th>exports</th>\n",
       "      <th>health</th>\n",
       "      <th>imports</th>\n",
       "      <th>income</th>\n",
       "      <th>inflation</th>\n",
       "      <th>life_expec</th>\n",
       "      <th>total_fer</th>\n",
       "      <th>gdpp</th>\n",
       "      <th>cluster</th>\n",
       "    </tr>\n",
       "  </thead>\n",
       "  <tbody>\n",
       "    <tr>\n",
       "      <th>0</th>\n",
       "      <td>Afghanistan</td>\n",
       "      <td>90.20</td>\n",
       "      <td>10.00</td>\n",
       "      <td>7.58</td>\n",
       "      <td>44.90</td>\n",
       "      <td>1610</td>\n",
       "      <td>9.44</td>\n",
       "      <td>56.20</td>\n",
       "      <td>5.82</td>\n",
       "      <td>553</td>\n",
       "      <td>1</td>\n",
       "    </tr>\n",
       "    <tr>\n",
       "      <th>1</th>\n",
       "      <td>Albania</td>\n",
       "      <td>16.60</td>\n",
       "      <td>28.00</td>\n",
       "      <td>6.55</td>\n",
       "      <td>48.60</td>\n",
       "      <td>9930</td>\n",
       "      <td>4.49</td>\n",
       "      <td>76.30</td>\n",
       "      <td>1.65</td>\n",
       "      <td>4090</td>\n",
       "      <td>0</td>\n",
       "    </tr>\n",
       "    <tr>\n",
       "      <th>2</th>\n",
       "      <td>Algeria</td>\n",
       "      <td>27.30</td>\n",
       "      <td>38.40</td>\n",
       "      <td>4.17</td>\n",
       "      <td>31.40</td>\n",
       "      <td>12900</td>\n",
       "      <td>16.10</td>\n",
       "      <td>76.50</td>\n",
       "      <td>2.89</td>\n",
       "      <td>4460</td>\n",
       "      <td>0</td>\n",
       "    </tr>\n",
       "    <tr>\n",
       "      <th>3</th>\n",
       "      <td>Angola</td>\n",
       "      <td>119.00</td>\n",
       "      <td>62.30</td>\n",
       "      <td>2.85</td>\n",
       "      <td>42.90</td>\n",
       "      <td>5900</td>\n",
       "      <td>22.40</td>\n",
       "      <td>60.10</td>\n",
       "      <td>6.16</td>\n",
       "      <td>3530</td>\n",
       "      <td>1</td>\n",
       "    </tr>\n",
       "    <tr>\n",
       "      <th>4</th>\n",
       "      <td>Antigua and Barbuda</td>\n",
       "      <td>10.30</td>\n",
       "      <td>45.50</td>\n",
       "      <td>6.03</td>\n",
       "      <td>58.90</td>\n",
       "      <td>19100</td>\n",
       "      <td>1.44</td>\n",
       "      <td>76.80</td>\n",
       "      <td>2.13</td>\n",
       "      <td>12200</td>\n",
       "      <td>0</td>\n",
       "    </tr>\n",
       "  </tbody>\n",
       "</table>\n",
       "</div>"
      ],
      "text/plain": [
       "               country  child_mort  exports  health  imports  income  \\\n",
       "0          Afghanistan       90.20    10.00    7.58    44.90    1610   \n",
       "1              Albania       16.60    28.00    6.55    48.60    9930   \n",
       "2              Algeria       27.30    38.40    4.17    31.40   12900   \n",
       "3               Angola      119.00    62.30    2.85    42.90    5900   \n",
       "4  Antigua and Barbuda       10.30    45.50    6.03    58.90   19100   \n",
       "\n",
       "   inflation  life_expec  total_fer   gdpp  cluster  \n",
       "0       9.44       56.20       5.82    553        1  \n",
       "1       4.49       76.30       1.65   4090        0  \n",
       "2      16.10       76.50       2.89   4460        0  \n",
       "3      22.40       60.10       6.16   3530        1  \n",
       "4       1.44       76.80       2.13  12200        0  "
      ]
     },
     "execution_count": 20,
     "metadata": {},
     "output_type": "execute_result"
    }
   ],
   "source": [
    "clusters=pd.concat([df, pd.DataFrame({'cluster':labels})], axis=1)\n",
    "clusters.head()"
   ]
  },
  {
   "cell_type": "markdown",
   "metadata": {},
   "source": [
    "**Interpretation of Cluster**"
   ]
  },
  {
   "cell_type": "code",
   "execution_count": 21,
   "metadata": {},
   "outputs": [
    {
     "data": {
      "image/png": "[encoded data removed]",
      "text/plain": [
       "<Figure size 432x216 with 2 Axes>"
      ]
     },
     "metadata": {
      "needs_background": "light"
     },
     "output_type": "display_data"
    },
    {
     "data": {
      "image/png": "[encoded data removed]",
      "text/plain": [
       "<Figure size 432x216 with 2 Axes>"
      ]
     },
     "metadata": {
      "needs_background": "light"
     },
     "output_type": "display_data"
    },
    {
     "data": {
      "image/png": "[encoded data removed]",
      "text/plain": [
       "<Figure size 432x216 with 2 Axes>"
      ]
     },
     "metadata": {
      "needs_background": "light"
     },
     "output_type": "display_data"
    },
    {
     "data": {
      "image/png": "[encoded data removed]",
      "text/plain": [
       "<Figure size 432x216 with 2 Axes>"
      ]
     },
     "metadata": {
      "needs_background": "light"
     },
     "output_type": "display_data"
    },
    {
     "data": {
      "image/png": "[encoded data removed]",
      "text/plain": [
       "<Figure size 432x216 with 2 Axes>"
      ]
     },
     "metadata": {
      "needs_background": "light"
     },
     "output_type": "display_data"
    },
    {
     "data": {
      "image/png": "[encoded data removed]",
      "text/plain": [
       "<Figure size 432x216 with 2 Axes>"
      ]
     },
     "metadata": {
      "needs_background": "light"
     },
     "output_type": "display_data"
    },
    {
     "data": {
      "image/png": "[encoded data removed]",
      "text/plain": [
       "<Figure size 432x216 with 2 Axes>"
      ]
     },
     "metadata": {
      "needs_background": "light"
     },
     "output_type": "display_data"
    },
    {
     "data": {
      "image/png": "[encoded data removed]",
      "text/plain": [
       "<Figure size 432x216 with 2 Axes>"
      ]
     },
     "metadata": {
      "needs_background": "light"
     },
     "output_type": "display_data"
    },
    {
     "data": {
      "image/png": "[encoded data removed]",
      "text/plain": [
       "<Figure size 432x216 with 2 Axes>"
      ]
     },
     "metadata": {
      "needs_background": "light"
     },
     "output_type": "display_data"
    },
    {
     "data": {
      "image/png": "[encoded data removed]",
      "text/plain": [
       "<Figure size 432x216 with 2 Axes>"
      ]
     },
     "metadata": {
      "needs_background": "light"
     },
     "output_type": "display_data"
    },
    {
     "data": {
      "image/png": "[encoded data removed]",
      "text/plain": [
       "<Figure size 432x216 with 2 Axes>"
      ]
     },
     "metadata": {
      "needs_background": "light"
     },
     "output_type": "display_data"
    }
   ],
   "source": [
    "for c in clusters:\n",
    "    grid= sns.FacetGrid(clusters, col='cluster')\n",
    "    grid.map(plt.hist, c)"
   ]
  },
  {
   "cell_type": "code",
   "execution_count": 22,
   "metadata": {},
   "outputs": [
    {
     "data": {
      "text/plain": [
       "0    99\n",
       "1    68\n",
       "Name: cluster, dtype: int64"
      ]
     },
     "execution_count": 22,
     "metadata": {},
     "output_type": "execute_result"
    }
   ],
   "source": [
    "clusters['cluster'].value_counts()"
   ]
  },
  {
   "cell_type": "code",
   "execution_count": 23,
   "metadata": {},
   "outputs": [
    {
     "data": {
      "text/html": [
       "<div>\n",
       "<style scoped>\n",
       "    .dataframe tbody tr th:only-of-type {\n",
       "        vertical-align: middle;\n",
       "    }\n",
       "\n",
       "    .dataframe tbody tr th {\n",
       "        vertical-align: top;\n",
       "    }\n",
       "\n",
       "    .dataframe thead th {\n",
       "        text-align: right;\n",
       "    }\n",
       "</style>\n",
       "<table border=\"1\" class=\"dataframe\">\n",
       "  <thead>\n",
       "    <tr style=\"text-align: right;\">\n",
       "      <th></th>\n",
       "      <th>child_mort</th>\n",
       "      <th>exports</th>\n",
       "      <th>health</th>\n",
       "      <th>imports</th>\n",
       "      <th>income</th>\n",
       "      <th>inflation</th>\n",
       "      <th>life_expec</th>\n",
       "      <th>total_fer</th>\n",
       "      <th>gdpp</th>\n",
       "    </tr>\n",
       "    <tr>\n",
       "      <th>cluster</th>\n",
       "      <th></th>\n",
       "      <th></th>\n",
       "      <th></th>\n",
       "      <th></th>\n",
       "      <th></th>\n",
       "      <th></th>\n",
       "      <th></th>\n",
       "      <th></th>\n",
       "      <th></th>\n",
       "    </tr>\n",
       "  </thead>\n",
       "  <tbody>\n",
       "    <tr>\n",
       "      <th>0</th>\n",
       "      <td>12.16</td>\n",
       "      <td>48.60</td>\n",
       "      <td>7.31</td>\n",
       "      <td>49.12</td>\n",
       "      <td>26017.17</td>\n",
       "      <td>5.50</td>\n",
       "      <td>76.49</td>\n",
       "      <td>1.94</td>\n",
       "      <td>20507.98</td>\n",
       "    </tr>\n",
       "    <tr>\n",
       "      <th>1</th>\n",
       "      <td>76.28</td>\n",
       "      <td>30.20</td>\n",
       "      <td>6.09</td>\n",
       "      <td>43.64</td>\n",
       "      <td>4227.40</td>\n",
       "      <td>11.10</td>\n",
       "      <td>61.91</td>\n",
       "      <td>4.41</td>\n",
       "      <td>1981.24</td>\n",
       "    </tr>\n",
       "  </tbody>\n",
       "</table>\n",
       "</div>"
      ],
      "text/plain": [
       "         child_mort  exports  health  imports   income  inflation  life_expec  \\\n",
       "cluster                                                                         \n",
       "0             12.16    48.60    7.31    49.12 26017.17       5.50       76.49   \n",
       "1             76.28    30.20    6.09    43.64  4227.40      11.10       61.91   \n",
       "\n",
       "         total_fer     gdpp  \n",
       "cluster                      \n",
       "0             1.94 20507.98  \n",
       "1             4.41  1981.24  "
      ]
     },
     "execution_count": 23,
     "metadata": {},
     "output_type": "execute_result"
    }
   ],
   "source": [
    "clusters.groupby('cluster').mean()"
   ]
  },
  {
   "cell_type": "markdown",
   "metadata": {},
   "source": [
    "### Cluster Interpretation"
   ]
  },
  {
   "cell_type": "markdown",
   "metadata": {},
   "source": [
    "**Cluster 0**"
   ]
  },
  {
   "cell_type": "raw",
   "metadata": {},
   "source": [
    "child_mort           : low\n",
    "exports              : low (but there's some outliers that categorized as high)\n",
    "health               : low - high\n",
    "imports              : low (but there's some outliers that categorized as high)\n",
    "income               : low - medium (but there's some outliers that categorized as high)\n",
    "inflation            : low\n",
    "life_expec           : high\n",
    "total_fer            : low\n",
    "gdpp                 : low - medium (but there's some outliers that categorized as high)"
   ]
  },
  {
   "cell_type": "markdown",
   "metadata": {},
   "source": [
    "**Cluster 1**"
   ]
  },
  {
   "cell_type": "raw",
   "metadata": {},
   "source": [
    "child_mort           : medium - high\n",
    "exports              : low\n",
    "health               : low - high\n",
    "imports              : low\n",
    "income               : low\n",
    "inflation            : low (but there's some outliers that categorized as high)\n",
    "life_expec           : low - medium\n",
    "total_fer            : medium - high\n",
    "gdpp                 : low"
   ]
  },
  {
   "cell_type": "markdown",
   "metadata": {},
   "source": [
    "### Visualization"
   ]
  },
  {
   "cell_type": "code",
   "execution_count": 24,
   "metadata": {},
   "outputs": [
    {
     "data": {
      "text/html": [
       "<div>\n",
       "<style scoped>\n",
       "    .dataframe tbody tr th:only-of-type {\n",
       "        vertical-align: middle;\n",
       "    }\n",
       "\n",
       "    .dataframe tbody tr th {\n",
       "        vertical-align: top;\n",
       "    }\n",
       "\n",
       "    .dataframe thead th {\n",
       "        text-align: right;\n",
       "    }\n",
       "</style>\n",
       "<table border=\"1\" class=\"dataframe\">\n",
       "  <thead>\n",
       "    <tr style=\"text-align: right;\">\n",
       "      <th></th>\n",
       "      <th>principal component 1</th>\n",
       "      <th>principal component 2</th>\n",
       "    </tr>\n",
       "  </thead>\n",
       "  <tbody>\n",
       "    <tr>\n",
       "      <th>0</th>\n",
       "      <td>0.93</td>\n",
       "      <td>-0.05</td>\n",
       "    </tr>\n",
       "    <tr>\n",
       "      <th>1</th>\n",
       "      <td>-0.43</td>\n",
       "      <td>-0.14</td>\n",
       "    </tr>\n",
       "  </tbody>\n",
       "</table>\n",
       "</div>"
      ],
      "text/plain": [
       "   principal component 1  principal component 2\n",
       "0                   0.93                  -0.05\n",
       "1                  -0.43                  -0.14"
      ]
     },
     "execution_count": 24,
     "metadata": {},
     "output_type": "execute_result"
    }
   ],
   "source": [
    "pca = PCA(n_components=2)\n",
    "principalComponents = pca.fit_transform(normalized_df)\n",
    "principalDf = pd.DataFrame(data = principalComponents, columns=['principal component 1', 'principal component 2'])\n",
    "principalDf.head(2)"
   ]
  },
  {
   "cell_type": "code",
   "execution_count": 25,
   "metadata": {},
   "outputs": [
    {
     "data": {
      "text/html": [
       "<div>\n",
       "<style scoped>\n",
       "    .dataframe tbody tr th:only-of-type {\n",
       "        vertical-align: middle;\n",
       "    }\n",
       "\n",
       "    .dataframe tbody tr th {\n",
       "        vertical-align: top;\n",
       "    }\n",
       "\n",
       "    .dataframe thead th {\n",
       "        text-align: right;\n",
       "    }\n",
       "</style>\n",
       "<table border=\"1\" class=\"dataframe\">\n",
       "  <thead>\n",
       "    <tr style=\"text-align: right;\">\n",
       "      <th></th>\n",
       "      <th>principal component 1</th>\n",
       "      <th>principal component 2</th>\n",
       "      <th>cluster</th>\n",
       "    </tr>\n",
       "  </thead>\n",
       "  <tbody>\n",
       "    <tr>\n",
       "      <th>0</th>\n",
       "      <td>0.93</td>\n",
       "      <td>-0.05</td>\n",
       "      <td>1</td>\n",
       "    </tr>\n",
       "    <tr>\n",
       "      <th>1</th>\n",
       "      <td>-0.43</td>\n",
       "      <td>-0.14</td>\n",
       "      <td>0</td>\n",
       "    </tr>\n",
       "    <tr>\n",
       "      <th>2</th>\n",
       "      <td>0.13</td>\n",
       "      <td>-0.37</td>\n",
       "      <td>0</td>\n",
       "    </tr>\n",
       "    <tr>\n",
       "      <th>3</th>\n",
       "      <td>0.88</td>\n",
       "      <td>0.19</td>\n",
       "      <td>1</td>\n",
       "    </tr>\n",
       "    <tr>\n",
       "      <th>4</th>\n",
       "      <td>-0.73</td>\n",
       "      <td>0.33</td>\n",
       "      <td>0</td>\n",
       "    </tr>\n",
       "  </tbody>\n",
       "</table>\n",
       "</div>"
      ],
      "text/plain": [
       "   principal component 1  principal component 2  cluster\n",
       "0                   0.93                  -0.05        1\n",
       "1                  -0.43                  -0.14        0\n",
       "2                   0.13                  -0.37        0\n",
       "3                   0.88                   0.19        1\n",
       "4                  -0.73                   0.33        0"
      ]
     },
     "execution_count": 25,
     "metadata": {},
     "output_type": "execute_result"
    }
   ],
   "source": [
    "finalDf = pd.concat([principalDf, pd.DataFrame({'cluster':labels})], axis = 1)\n",
    "finalDf.head()"
   ]
  },
  {
   "cell_type": "code",
   "execution_count": 26,
   "metadata": {},
   "outputs": [
    {
     "data": {
      "image/png": "[encoded data removed]",
      "text/plain": [
       "<Figure size 1080x720 with 1 Axes>"
      ]
     },
     "metadata": {
      "needs_background": "light"
     },
     "output_type": "display_data"
    }
   ],
   "source": [
    "plt.figure(figsize=(15,10))\n",
    "ax = sns.scatterplot(x=\"principal component 1\", y=\"principal component 2\", hue=\"cluster\", data=finalDf,palette=['red','blue'])\n",
    "plt.show()"
   ]
  },
  {
   "cell_type": "markdown",
   "metadata": {},
   "source": [
    "# Conclusion\n",
    "\n",
    "all countries relatively has similar numbers based on the features. although, features that has strong impact in the segmentation are child_mort, life_expec and total_fer\n",
    "\n",
    "* **Cluster 0 :** This country group indicates a large group of countries who have low number of death of children, high life expectation, and low number of children that would be born to each woman\n",
    "\n",
    "* **Cluster 1 :** This country group indicates a small group of countries who have medium-high number of death of children, low-medium life expectation, and medium-high number of children that would be born to each woman"
   ]
  },
  {
   "cell_type": "markdown",
   "metadata": {},
   "source": [
    "# Predict Country Segmentation"
   ]
  },
  {
   "cell_type": "code",
   "execution_count": 27,
   "metadata": {},
   "outputs": [],
   "source": [
    "## Splitting data\n",
    "X = clusters.drop(columns=['country', 'cluster'])\n",
    "y = clusters['cluster']"
   ]
  },
  {
   "cell_type": "code",
   "execution_count": 28,
   "metadata": {},
   "outputs": [],
   "source": [
    "X_train, X_test, y_train,y_test = train_test_split(X,y,stratify=y, test_size= .20, random_state=420)"
   ]
  },
  {
   "cell_type": "code",
   "execution_count": 82,
   "metadata": {},
   "outputs": [],
   "source": [
    "# num_columns = ['enrollee_id','city_development_index', 'training_hours']\n",
    "num_columns = ['child_mort', 'exports', 'health', 'imports', 'income',\n",
    "       'inflation', 'life_expec', 'total_fer', 'gdpp']\n",
    "\n",
    "numeric_pipeline = Pipeline([\n",
    "    ('imputer', SimpleImputer(strategy='mean')),\n",
    "    ('scaler', StandardScaler()),\n",
    "])\n",
    "\n",
    "\n",
    "preprocessor = ColumnTransformer([\n",
    "    ('numeric', numeric_pipeline, num_columns)\n",
    "])\n",
    "\n",
    "\n",
    "pipe_RF = Pipeline([\n",
    "    (\"prep\", preprocessor),\n",
    "    (\"algo\", RandomForestClassifier())\n",
    "])\n",
    "\n",
    "pipe_SVM = Pipeline([\n",
    "    (\"prep\", preprocessor),\n",
    "    (\"algo\", SVC(probability=True))\n",
    "])"
   ]
  },
  {
   "cell_type": "markdown",
   "metadata": {},
   "source": [
    "## Random Forest"
   ]
  },
  {
   "cell_type": "code",
   "execution_count": 30,
   "metadata": {},
   "outputs": [
    {
     "data": {
      "text/plain": [
       "Pipeline(steps=[('prep',\n",
       "                 ColumnTransformer(transformers=[('numeric',\n",
       "                                                  Pipeline(steps=[('imputer',\n",
       "                                                                   SimpleImputer()),\n",
       "                                                                  ('scaler',\n",
       "                                                                   StandardScaler())]),\n",
       "                                                  ['child_mort', 'exports',\n",
       "                                                   'health', 'imports',\n",
       "                                                   'income', 'inflation',\n",
       "                                                   'life_expec', 'total_fer',\n",
       "                                                   'gdpp'])])),\n",
       "                ('algo', RandomForestClassifier())])"
      ]
     },
     "execution_count": 30,
     "metadata": {},
     "output_type": "execute_result"
    }
   ],
   "source": [
    "pipe_RF.fit(X_train, y_train)"
   ]
  },
  {
   "cell_type": "code",
   "execution_count": 31,
   "metadata": {},
   "outputs": [],
   "source": [
    "y_pred_RF_ts = pipe_RF.predict(X_test)"
   ]
  },
  {
   "cell_type": "code",
   "execution_count": 32,
   "metadata": {},
   "outputs": [
    {
     "name": "stdout",
     "output_type": "stream",
     "text": [
      "              precision    recall  f1-score   support\n",
      "\n",
      "           0       1.00      0.95      0.97        20\n",
      "           1       0.93      1.00      0.97        14\n",
      "\n",
      "    accuracy                           0.97        34\n",
      "   macro avg       0.97      0.97      0.97        34\n",
      "weighted avg       0.97      0.97      0.97        34\n",
      "\n"
     ]
    }
   ],
   "source": [
    "print(classification_report(y_test, y_pred_RF_ts))"
   ]
  },
  {
   "cell_type": "markdown",
   "metadata": {},
   "source": [
    "### Random Forest Hypertuning Parameter"
   ]
  },
  {
   "cell_type": "code",
   "execution_count": 33,
   "metadata": {},
   "outputs": [
    {
     "data": {
      "text/plain": [
       "{'memory': None,\n",
       " 'steps': [('prep', ColumnTransformer(transformers=[('numeric',\n",
       "                                    Pipeline(steps=[('imputer', SimpleImputer()),\n",
       "                                                    ('scaler', StandardScaler())]),\n",
       "                                    ['child_mort', 'exports', 'health', 'imports',\n",
       "                                     'income', 'inflation', 'life_expec',\n",
       "                                     'total_fer', 'gdpp'])])),\n",
       "  ('algo', RandomForestClassifier())],\n",
       " 'verbose': False,\n",
       " 'prep': ColumnTransformer(transformers=[('numeric',\n",
       "                                  Pipeline(steps=[('imputer', SimpleImputer()),\n",
       "                                                  ('scaler', StandardScaler())]),\n",
       "                                  ['child_mort', 'exports', 'health', 'imports',\n",
       "                                   'income', 'inflation', 'life_expec',\n",
       "                                   'total_fer', 'gdpp'])]),\n",
       " 'algo': RandomForestClassifier(),\n",
       " 'prep__n_jobs': None,\n",
       " 'prep__remainder': 'drop',\n",
       " 'prep__sparse_threshold': 0.3,\n",
       " 'prep__transformer_weights': None,\n",
       " 'prep__transformers': [('numeric',\n",
       "   Pipeline(steps=[('imputer', SimpleImputer()), ('scaler', StandardScaler())]),\n",
       "   ['child_mort',\n",
       "    'exports',\n",
       "    'health',\n",
       "    'imports',\n",
       "    'income',\n",
       "    'inflation',\n",
       "    'life_expec',\n",
       "    'total_fer',\n",
       "    'gdpp'])],\n",
       " 'prep__verbose': False,\n",
       " 'prep__numeric': Pipeline(steps=[('imputer', SimpleImputer()), ('scaler', StandardScaler())]),\n",
       " 'prep__numeric__memory': None,\n",
       " 'prep__numeric__steps': [('imputer', SimpleImputer()),\n",
       "  ('scaler', StandardScaler())],\n",
       " 'prep__numeric__verbose': False,\n",
       " 'prep__numeric__imputer': SimpleImputer(),\n",
       " 'prep__numeric__scaler': StandardScaler(),\n",
       " 'prep__numeric__imputer__add_indicator': False,\n",
       " 'prep__numeric__imputer__copy': True,\n",
       " 'prep__numeric__imputer__fill_value': None,\n",
       " 'prep__numeric__imputer__missing_values': nan,\n",
       " 'prep__numeric__imputer__strategy': 'mean',\n",
       " 'prep__numeric__imputer__verbose': 0,\n",
       " 'prep__numeric__scaler__copy': True,\n",
       " 'prep__numeric__scaler__with_mean': True,\n",
       " 'prep__numeric__scaler__with_std': True,\n",
       " 'algo__bootstrap': True,\n",
       " 'algo__ccp_alpha': 0.0,\n",
       " 'algo__class_weight': None,\n",
       " 'algo__criterion': 'gini',\n",
       " 'algo__max_depth': None,\n",
       " 'algo__max_features': 'auto',\n",
       " 'algo__max_leaf_nodes': None,\n",
       " 'algo__max_samples': None,\n",
       " 'algo__min_impurity_decrease': 0.0,\n",
       " 'algo__min_impurity_split': None,\n",
       " 'algo__min_samples_leaf': 1,\n",
       " 'algo__min_samples_split': 2,\n",
       " 'algo__min_weight_fraction_leaf': 0.0,\n",
       " 'algo__n_estimators': 100,\n",
       " 'algo__n_jobs': None,\n",
       " 'algo__oob_score': False,\n",
       " 'algo__random_state': None,\n",
       " 'algo__verbose': 0,\n",
       " 'algo__warm_start': False}"
      ]
     },
     "execution_count": 33,
     "metadata": {},
     "output_type": "execute_result"
    }
   ],
   "source": [
    "pipe_RF.get_params()"
   ]
  },
  {
   "cell_type": "code",
   "execution_count": 34,
   "metadata": {},
   "outputs": [],
   "source": [
    "param_RF = {\n",
    "    'algo__n_estimators' : np.arange(100,701,200),\n",
    "    'algo__max_depth' : [None, 5,7,10],\n",
    "    'algo__min_samples_leaf' : np.arange(1,26,5),\n",
    "    'algo__min_samples_split' : np.arange(1,26,5)*2\n",
    "}"
   ]
  },
  {
   "cell_type": "code",
   "execution_count": 35,
   "metadata": {},
   "outputs": [],
   "source": [
    "skf = StratifiedKFold(n_splits=3, random_state=42, shuffle = True, )"
   ]
  },
  {
   "cell_type": "code",
   "execution_count": 36,
   "metadata": {},
   "outputs": [],
   "source": [
    "RF_RS= RandomizedSearchCV(pipe_RF, param_RF, cv=skf, n_iter=50, n_jobs=-1, verbose=1, random_state=42, scoring='accuracy')"
   ]
  },
  {
   "cell_type": "code",
   "execution_count": 37,
   "metadata": {},
   "outputs": [
    {
     "name": "stdout",
     "output_type": "stream",
     "text": [
      "Fitting 3 folds for each of 50 candidates, totalling 150 fits\n"
     ]
    },
    {
     "name": "stderr",
     "output_type": "stream",
     "text": [
      "[Parallel(n_jobs=-1)]: Using backend LokyBackend with 8 concurrent workers.\n",
      "[Parallel(n_jobs=-1)]: Done  34 tasks      | elapsed:    6.3s\n",
      "[Parallel(n_jobs=-1)]: Done 150 out of 150 | elapsed:   19.5s finished\n"
     ]
    },
    {
     "data": {
      "text/plain": [
       "RandomizedSearchCV(cv=StratifiedKFold(n_splits=3, random_state=42, shuffle=True),\n",
       "                   estimator=Pipeline(steps=[('prep',\n",
       "                                              ColumnTransformer(transformers=[('numeric',\n",
       "                                                                               Pipeline(steps=[('imputer',\n",
       "                                                                                                SimpleImputer()),\n",
       "                                                                                               ('scaler',\n",
       "                                                                                                StandardScaler())]),\n",
       "                                                                               ['child_mort',\n",
       "                                                                                'exports',\n",
       "                                                                                'health',\n",
       "                                                                                'imports',\n",
       "                                                                                'income',\n",
       "                                                                                'inflation',\n",
       "                                                                                'life_expec',\n",
       "                                                                                'total_fer',\n",
       "                                                                                'gdpp'])])),\n",
       "                                             ('algo',\n",
       "                                              RandomForestClassifier())]),\n",
       "                   n_iter=50, n_jobs=-1,\n",
       "                   param_distributions={'algo__max_depth': [None, 5, 7, 10],\n",
       "                                        'algo__min_samples_leaf': array([ 1,  6, 11, 16, 21]),\n",
       "                                        'algo__min_samples_split': array([ 2, 12, 22, 32, 42]),\n",
       "                                        'algo__n_estimators': array([100, 300, 500, 700])},\n",
       "                   random_state=42, scoring='accuracy', verbose=1)"
      ]
     },
     "execution_count": 37,
     "metadata": {},
     "output_type": "execute_result"
    }
   ],
   "source": [
    "RF_RS.fit(X_train,y_train)"
   ]
  },
  {
   "cell_type": "code",
   "execution_count": 38,
   "metadata": {},
   "outputs": [
    {
     "data": {
      "text/plain": [
       "{'algo__n_estimators': 100,\n",
       " 'algo__min_samples_split': 12,\n",
       " 'algo__min_samples_leaf': 1,\n",
       " 'algo__max_depth': 5}"
      ]
     },
     "execution_count": 38,
     "metadata": {},
     "output_type": "execute_result"
    }
   ],
   "source": [
    "RF_RS.best_params_"
   ]
  },
  {
   "cell_type": "code",
   "execution_count": 39,
   "metadata": {},
   "outputs": [],
   "source": [
    "RF_Tuned_RS = RF_RS.best_estimator_"
   ]
  },
  {
   "cell_type": "code",
   "execution_count": 40,
   "metadata": {},
   "outputs": [],
   "source": [
    "y_ts_RF1 = RF_Tuned_RS.predict(X_test)"
   ]
  },
  {
   "cell_type": "code",
   "execution_count": 41,
   "metadata": {},
   "outputs": [
    {
     "name": "stdout",
     "output_type": "stream",
     "text": [
      "              precision    recall  f1-score   support\n",
      "\n",
      "           0       1.00      0.95      0.97        20\n",
      "           1       0.93      1.00      0.97        14\n",
      "\n",
      "    accuracy                           0.97        34\n",
      "   macro avg       0.97      0.97      0.97        34\n",
      "weighted avg       0.97      0.97      0.97        34\n",
      "\n"
     ]
    }
   ],
   "source": [
    "print(classification_report(y_test, y_ts_RF1))"
   ]
  },
  {
   "cell_type": "markdown",
   "metadata": {},
   "source": [
    "### Random Forest - Fine Tuning"
   ]
  },
  {
   "cell_type": "code",
   "execution_count": 42,
   "metadata": {},
   "outputs": [],
   "source": [
    "param_RF2 = {\n",
    "    'algo__n_estimators' : np.arange(80,160,20),\n",
    "    'algo__max_depth' : [None, 2, 3, 4, 5, 6],\n",
    "    'algo__min_samples_leaf' : np.arange(10,20,1),\n",
    "    'algo__min_samples_split' : [1, 2, 3]\n",
    "}"
   ]
  },
  {
   "cell_type": "code",
   "execution_count": 43,
   "metadata": {},
   "outputs": [],
   "source": [
    "# {'algo__n_estimators': 100,\n",
    "#  'algo__min_samples_split': 12,\n",
    "#  'algo__min_samples_leaf': 1,\n",
    "#  'algo__max_depth': 5}"
   ]
  },
  {
   "cell_type": "code",
   "execution_count": 44,
   "metadata": {},
   "outputs": [],
   "source": [
    "RF_GS = GridSearchCV(pipe_RF, param_RF2, cv = skf, scoring = 'accuracy', n_jobs = -1, verbose=1)"
   ]
  },
  {
   "cell_type": "code",
   "execution_count": 45,
   "metadata": {},
   "outputs": [
    {
     "name": "stdout",
     "output_type": "stream",
     "text": [
      "Fitting 3 folds for each of 720 candidates, totalling 2160 fits\n"
     ]
    },
    {
     "name": "stderr",
     "output_type": "stream",
     "text": [
      "[Parallel(n_jobs=-1)]: Using backend LokyBackend with 8 concurrent workers.\n",
      "[Parallel(n_jobs=-1)]: Done  52 tasks      | elapsed:    1.5s\n",
      "[Parallel(n_jobs=-1)]: Done 352 tasks      | elapsed:   10.2s\n",
      "[Parallel(n_jobs=-1)]: Done 852 tasks      | elapsed:   25.2s\n",
      "[Parallel(n_jobs=-1)]: Done 1552 tasks      | elapsed:   44.5s\n",
      "[Parallel(n_jobs=-1)]: Done 2160 out of 2160 | elapsed:  1.0min finished\n"
     ]
    },
    {
     "data": {
      "text/plain": [
       "GridSearchCV(cv=StratifiedKFold(n_splits=3, random_state=42, shuffle=True),\n",
       "             estimator=Pipeline(steps=[('prep',\n",
       "                                        ColumnTransformer(transformers=[('numeric',\n",
       "                                                                         Pipeline(steps=[('imputer',\n",
       "                                                                                          SimpleImputer()),\n",
       "                                                                                         ('scaler',\n",
       "                                                                                          StandardScaler())]),\n",
       "                                                                         ['child_mort',\n",
       "                                                                          'exports',\n",
       "                                                                          'health',\n",
       "                                                                          'imports',\n",
       "                                                                          'income',\n",
       "                                                                          'inflation',\n",
       "                                                                          'life_expec',\n",
       "                                                                          'total_fer',\n",
       "                                                                          'gdpp'])])),\n",
       "                                       ('algo', RandomForestClassifier())]),\n",
       "             n_jobs=-1,\n",
       "             param_grid={'algo__max_depth': [None, 2, 3, 4, 5, 6],\n",
       "                         'algo__min_samples_leaf': array([10, 11, 12, 13, 14, 15, 16, 17, 18, 19]),\n",
       "                         'algo__min_samples_split': [1, 2, 3],\n",
       "                         'algo__n_estimators': array([ 80, 100, 120, 140])},\n",
       "             scoring='accuracy', verbose=1)"
      ]
     },
     "execution_count": 45,
     "metadata": {},
     "output_type": "execute_result"
    }
   ],
   "source": [
    "RF_GS.fit(X_train,y_train)"
   ]
  },
  {
   "cell_type": "code",
   "execution_count": 46,
   "metadata": {},
   "outputs": [
    {
     "data": {
      "text/plain": [
       "{'algo__max_depth': 2,\n",
       " 'algo__min_samples_leaf': 17,\n",
       " 'algo__min_samples_split': 2,\n",
       " 'algo__n_estimators': 80}"
      ]
     },
     "execution_count": 46,
     "metadata": {},
     "output_type": "execute_result"
    }
   ],
   "source": [
    "RF_GS.best_params_"
   ]
  },
  {
   "cell_type": "code",
   "execution_count": 47,
   "metadata": {},
   "outputs": [],
   "source": [
    "RF_Tuned_GS = RF_GS.best_estimator_"
   ]
  },
  {
   "cell_type": "code",
   "execution_count": 48,
   "metadata": {},
   "outputs": [],
   "source": [
    "y_ts_RF2 = RF_Tuned_GS.predict(X_test)"
   ]
  },
  {
   "cell_type": "code",
   "execution_count": 49,
   "metadata": {},
   "outputs": [
    {
     "name": "stdout",
     "output_type": "stream",
     "text": [
      "              precision    recall  f1-score   support\n",
      "\n",
      "           0       1.00      0.90      0.95        20\n",
      "           1       0.88      1.00      0.93        14\n",
      "\n",
      "    accuracy                           0.94        34\n",
      "   macro avg       0.94      0.95      0.94        34\n",
      "weighted avg       0.95      0.94      0.94        34\n",
      "\n"
     ]
    }
   ],
   "source": [
    "print(classification_report(y_test, y_ts_RF2))"
   ]
  },
  {
   "cell_type": "code",
   "execution_count": 50,
   "metadata": {},
   "outputs": [],
   "source": [
    "cm_RF2_Tuned = confusion_matrix(y_test, y_ts_RF2, labels=[1, 0])"
   ]
  },
  {
   "cell_type": "code",
   "execution_count": 51,
   "metadata": {},
   "outputs": [
    {
     "data": {
      "text/html": [
       "<div>\n",
       "<style scoped>\n",
       "    .dataframe tbody tr th:only-of-type {\n",
       "        vertical-align: middle;\n",
       "    }\n",
       "\n",
       "    .dataframe tbody tr th {\n",
       "        vertical-align: top;\n",
       "    }\n",
       "\n",
       "    .dataframe thead th {\n",
       "        text-align: right;\n",
       "    }\n",
       "</style>\n",
       "<table border=\"1\" class=\"dataframe\">\n",
       "  <thead>\n",
       "    <tr style=\"text-align: right;\">\n",
       "      <th></th>\n",
       "      <th>Pred 1</th>\n",
       "      <th>Pred 0</th>\n",
       "    </tr>\n",
       "  </thead>\n",
       "  <tbody>\n",
       "    <tr>\n",
       "      <th>Akt 1</th>\n",
       "      <td>14</td>\n",
       "      <td>0</td>\n",
       "    </tr>\n",
       "    <tr>\n",
       "      <th>Akt 0</th>\n",
       "      <td>2</td>\n",
       "      <td>18</td>\n",
       "    </tr>\n",
       "  </tbody>\n",
       "</table>\n",
       "</div>"
      ],
      "text/plain": [
       "       Pred 1  Pred 0\n",
       "Akt 1      14       0\n",
       "Akt 0       2      18"
      ]
     },
     "execution_count": 51,
     "metadata": {},
     "output_type": "execute_result"
    }
   ],
   "source": [
    "df_RF2_Tuned = pd.DataFrame(cm_RF2_Tuned, index=['Akt 1', 'Akt 0'], columns =  ['Pred 1', 'Pred 0'])\n",
    "df_RF2_Tuned"
   ]
  },
  {
   "cell_type": "code",
   "execution_count": 52,
   "metadata": {},
   "outputs": [
    {
     "data": {
      "image/png": "[encoded data removed]",
      "text/plain": [
       "<Figure size 432x288 with 1 Axes>"
      ]
     },
     "metadata": {
      "needs_background": "light"
     },
     "output_type": "display_data"
    }
   ],
   "source": [
    "sns.heatmap(df_RF2_Tuned, annot=True, cbar=False)\n",
    "plt.show()"
   ]
  },
  {
   "cell_type": "code",
   "execution_count": null,
   "metadata": {},
   "outputs": [],
   "source": []
  },
  {
   "cell_type": "markdown",
   "metadata": {},
   "source": [
    "### Random Forest - Fine Tuning 2"
   ]
  },
  {
   "cell_type": "code",
   "execution_count": 53,
   "metadata": {},
   "outputs": [],
   "source": [
    "param_RF3 = {\n",
    "    'algo__n_estimators' : np.arange(1,20,1),\n",
    "    'algo__max_depth' : [None, 5, 6, 7],\n",
    "    'algo__min_samples_leaf' : [3],\n",
    "    'algo__min_samples_split' : [1, 2, 3]}"
   ]
  },
  {
   "cell_type": "code",
   "execution_count": 54,
   "metadata": {},
   "outputs": [],
   "source": [
    "# {'algo__max_depth': 6,\n",
    "#  'algo__min_samples_leaf': 4,\n",
    "#  'algo__min_samples_split': 3,\n",
    "#  'algo__n_estimators': 20}"
   ]
  },
  {
   "cell_type": "code",
   "execution_count": 55,
   "metadata": {},
   "outputs": [],
   "source": [
    "RF_GS2 = GridSearchCV(pipe_RF, param_RF3, cv = skf, scoring = 'accuracy', n_jobs = -1, verbose=1)"
   ]
  },
  {
   "cell_type": "code",
   "execution_count": 56,
   "metadata": {},
   "outputs": [
    {
     "name": "stdout",
     "output_type": "stream",
     "text": [
      "Fitting 3 folds for each of 228 candidates, totalling 684 fits\n"
     ]
    },
    {
     "name": "stderr",
     "output_type": "stream",
     "text": [
      "[Parallel(n_jobs=-1)]: Using backend LokyBackend with 8 concurrent workers.\n",
      "[Parallel(n_jobs=-1)]: Done  56 tasks      | elapsed:    0.4s\n",
      "[Parallel(n_jobs=-1)]: Done 684 out of 684 | elapsed:    4.0s finished\n"
     ]
    },
    {
     "data": {
      "text/plain": [
       "GridSearchCV(cv=StratifiedKFold(n_splits=3, random_state=42, shuffle=True),\n",
       "             estimator=Pipeline(steps=[('prep',\n",
       "                                        ColumnTransformer(transformers=[('numeric',\n",
       "                                                                         Pipeline(steps=[('imputer',\n",
       "                                                                                          SimpleImputer()),\n",
       "                                                                                         ('scaler',\n",
       "                                                                                          StandardScaler())]),\n",
       "                                                                         ['child_mort',\n",
       "                                                                          'exports',\n",
       "                                                                          'health',\n",
       "                                                                          'imports',\n",
       "                                                                          'income',\n",
       "                                                                          'inflation',\n",
       "                                                                          'life_expec',\n",
       "                                                                          'total_fer',\n",
       "                                                                          'gdpp'])])),\n",
       "                                       ('algo', RandomForestClassifier())]),\n",
       "             n_jobs=-1,\n",
       "             param_grid={'algo__max_depth': [None, 5, 6, 7],\n",
       "                         'algo__min_samples_leaf': [3],\n",
       "                         'algo__min_samples_split': [1, 2, 3],\n",
       "                         'algo__n_estimators': array([ 1,  2,  3,  4,  5,  6,  7,  8,  9, 10, 11, 12, 13, 14, 15, 16, 17,\n",
       "       18, 19])},\n",
       "             scoring='accuracy', verbose=1)"
      ]
     },
     "execution_count": 56,
     "metadata": {},
     "output_type": "execute_result"
    }
   ],
   "source": [
    "RF_GS2.fit(X_train,y_train)"
   ]
  },
  {
   "cell_type": "code",
   "execution_count": 57,
   "metadata": {},
   "outputs": [
    {
     "data": {
      "text/plain": [
       "{'algo__max_depth': None,\n",
       " 'algo__min_samples_leaf': 3,\n",
       " 'algo__min_samples_split': 2,\n",
       " 'algo__n_estimators': 7}"
      ]
     },
     "execution_count": 57,
     "metadata": {},
     "output_type": "execute_result"
    }
   ],
   "source": [
    "RF_GS2.best_params_"
   ]
  },
  {
   "cell_type": "code",
   "execution_count": 58,
   "metadata": {},
   "outputs": [],
   "source": [
    "RF_Tuned_GS2 = RF_GS2.best_estimator_"
   ]
  },
  {
   "cell_type": "code",
   "execution_count": 59,
   "metadata": {},
   "outputs": [],
   "source": [
    "y_ts_RF3 = RF_Tuned_GS2.predict(X_test)"
   ]
  },
  {
   "cell_type": "code",
   "execution_count": 60,
   "metadata": {},
   "outputs": [
    {
     "name": "stdout",
     "output_type": "stream",
     "text": [
      "              precision    recall  f1-score   support\n",
      "\n",
      "           0       0.95      1.00      0.98        20\n",
      "           1       1.00      0.93      0.96        14\n",
      "\n",
      "    accuracy                           0.97        34\n",
      "   macro avg       0.98      0.96      0.97        34\n",
      "weighted avg       0.97      0.97      0.97        34\n",
      "\n"
     ]
    }
   ],
   "source": [
    "print(classification_report(y_test, y_ts_RF3))"
   ]
  },
  {
   "cell_type": "code",
   "execution_count": 83,
   "metadata": {},
   "outputs": [],
   "source": [
    "y_tr_RF3 = RF_Tuned_GS2.predict(X_train)"
   ]
  },
  {
   "cell_type": "code",
   "execution_count": 84,
   "metadata": {},
   "outputs": [
    {
     "name": "stdout",
     "output_type": "stream",
     "text": [
      "              precision    recall  f1-score   support\n",
      "\n",
      "           0       0.99      1.00      0.99        79\n",
      "           1       1.00      0.98      0.99        54\n",
      "\n",
      "    accuracy                           0.99       133\n",
      "   macro avg       0.99      0.99      0.99       133\n",
      "weighted avg       0.99      0.99      0.99       133\n",
      "\n"
     ]
    }
   ],
   "source": [
    "print(classification_report(y_train, y_tr_RF3))"
   ]
  },
  {
   "cell_type": "markdown",
   "metadata": {},
   "source": [
    "# SVM"
   ]
  },
  {
   "cell_type": "code",
   "execution_count": 61,
   "metadata": {},
   "outputs": [
    {
     "data": {
      "text/plain": [
       "Pipeline(steps=[('prep',\n",
       "                 ColumnTransformer(transformers=[('numeric',\n",
       "                                                  Pipeline(steps=[('imputer',\n",
       "                                                                   SimpleImputer()),\n",
       "                                                                  ('scaler',\n",
       "                                                                   StandardScaler())]),\n",
       "                                                  ['child_mort', 'exports',\n",
       "                                                   'health', 'imports',\n",
       "                                                   'income', 'inflation',\n",
       "                                                   'life_expec', 'total_fer',\n",
       "                                                   'gdpp'])])),\n",
       "                ('algo', SVC(probability=True))])"
      ]
     },
     "execution_count": 61,
     "metadata": {},
     "output_type": "execute_result"
    }
   ],
   "source": [
    "pipe_SVM.fit(X_train, y_train)"
   ]
  },
  {
   "cell_type": "code",
   "execution_count": 62,
   "metadata": {},
   "outputs": [],
   "source": [
    "y_SVM1 = pipe_SVM.predict(X_test)"
   ]
  },
  {
   "cell_type": "code",
   "execution_count": 63,
   "metadata": {},
   "outputs": [
    {
     "name": "stdout",
     "output_type": "stream",
     "text": [
      "              precision    recall  f1-score   support\n",
      "\n",
      "           0       0.90      0.95      0.93        20\n",
      "           1       0.92      0.86      0.89        14\n",
      "\n",
      "    accuracy                           0.91        34\n",
      "   macro avg       0.91      0.90      0.91        34\n",
      "weighted avg       0.91      0.91      0.91        34\n",
      "\n"
     ]
    }
   ],
   "source": [
    "print(classification_report(y_test, y_SVM1))"
   ]
  },
  {
   "cell_type": "markdown",
   "metadata": {},
   "source": [
    "### SVM Hypertuning Parameter"
   ]
  },
  {
   "cell_type": "code",
   "execution_count": 64,
   "metadata": {},
   "outputs": [
    {
     "data": {
      "text/plain": [
       "{'memory': None,\n",
       " 'steps': [('prep', ColumnTransformer(transformers=[('numeric',\n",
       "                                    Pipeline(steps=[('imputer', SimpleImputer()),\n",
       "                                                    ('scaler', StandardScaler())]),\n",
       "                                    ['child_mort', 'exports', 'health', 'imports',\n",
       "                                     'income', 'inflation', 'life_expec',\n",
       "                                     'total_fer', 'gdpp'])])),\n",
       "  ('algo', SVC(probability=True))],\n",
       " 'verbose': False,\n",
       " 'prep': ColumnTransformer(transformers=[('numeric',\n",
       "                                  Pipeline(steps=[('imputer', SimpleImputer()),\n",
       "                                                  ('scaler', StandardScaler())]),\n",
       "                                  ['child_mort', 'exports', 'health', 'imports',\n",
       "                                   'income', 'inflation', 'life_expec',\n",
       "                                   'total_fer', 'gdpp'])]),\n",
       " 'algo': SVC(probability=True),\n",
       " 'prep__n_jobs': None,\n",
       " 'prep__remainder': 'drop',\n",
       " 'prep__sparse_threshold': 0.3,\n",
       " 'prep__transformer_weights': None,\n",
       " 'prep__transformers': [('numeric',\n",
       "   Pipeline(steps=[('imputer', SimpleImputer()), ('scaler', StandardScaler())]),\n",
       "   ['child_mort',\n",
       "    'exports',\n",
       "    'health',\n",
       "    'imports',\n",
       "    'income',\n",
       "    'inflation',\n",
       "    'life_expec',\n",
       "    'total_fer',\n",
       "    'gdpp'])],\n",
       " 'prep__verbose': False,\n",
       " 'prep__numeric': Pipeline(steps=[('imputer', SimpleImputer()), ('scaler', StandardScaler())]),\n",
       " 'prep__numeric__memory': None,\n",
       " 'prep__numeric__steps': [('imputer', SimpleImputer()),\n",
       "  ('scaler', StandardScaler())],\n",
       " 'prep__numeric__verbose': False,\n",
       " 'prep__numeric__imputer': SimpleImputer(),\n",
       " 'prep__numeric__scaler': StandardScaler(),\n",
       " 'prep__numeric__imputer__add_indicator': False,\n",
       " 'prep__numeric__imputer__copy': True,\n",
       " 'prep__numeric__imputer__fill_value': None,\n",
       " 'prep__numeric__imputer__missing_values': nan,\n",
       " 'prep__numeric__imputer__strategy': 'mean',\n",
       " 'prep__numeric__imputer__verbose': 0,\n",
       " 'prep__numeric__scaler__copy': True,\n",
       " 'prep__numeric__scaler__with_mean': True,\n",
       " 'prep__numeric__scaler__with_std': True,\n",
       " 'algo__C': 1.0,\n",
       " 'algo__break_ties': False,\n",
       " 'algo__cache_size': 200,\n",
       " 'algo__class_weight': None,\n",
       " 'algo__coef0': 0.0,\n",
       " 'algo__decision_function_shape': 'ovr',\n",
       " 'algo__degree': 3,\n",
       " 'algo__gamma': 'scale',\n",
       " 'algo__kernel': 'rbf',\n",
       " 'algo__max_iter': -1,\n",
       " 'algo__probability': True,\n",
       " 'algo__random_state': None,\n",
       " 'algo__shrinking': True,\n",
       " 'algo__tol': 0.001,\n",
       " 'algo__verbose': False}"
      ]
     },
     "execution_count": 64,
     "metadata": {},
     "output_type": "execute_result"
    }
   ],
   "source": [
    "pipe_SVM.get_params()"
   ]
  },
  {
   "cell_type": "code",
   "execution_count": 65,
   "metadata": {},
   "outputs": [],
   "source": [
    "param_SVM = {\n",
    "    'algo__C' : np.logspace(-3 , 3, 7), #semakin tinggi, semakin kompleks. kalau overfit, kurangin nilai C\n",
    "    \"algo__gamma\" : np.arange(10, 101, 25), #semakin tinggi, semakin kompleks. kalau overfit, kurangin nilai gamma\n",
    "}"
   ]
  },
  {
   "cell_type": "code",
   "execution_count": 66,
   "metadata": {},
   "outputs": [],
   "source": [
    "skf = StratifiedKFold(n_splits=3, random_state=42, shuffle = True, )"
   ]
  },
  {
   "cell_type": "code",
   "execution_count": 67,
   "metadata": {},
   "outputs": [],
   "source": [
    "SVM_RS= RandomizedSearchCV(pipe_SVM, param_SVM, cv=skf, n_iter=50, n_jobs=-1, verbose=1, random_state=42, scoring='accuracy')"
   ]
  },
  {
   "cell_type": "code",
   "execution_count": 68,
   "metadata": {},
   "outputs": [
    {
     "name": "stdout",
     "output_type": "stream",
     "text": [
      "Fitting 3 folds for each of 28 candidates, totalling 84 fits\n"
     ]
    },
    {
     "name": "stderr",
     "output_type": "stream",
     "text": [
      "[Parallel(n_jobs=-1)]: Using backend LokyBackend with 8 concurrent workers.\n",
      "[Parallel(n_jobs=-1)]: Done  84 out of  84 | elapsed:    0.3s finished\n"
     ]
    },
    {
     "data": {
      "text/plain": [
       "RandomizedSearchCV(cv=StratifiedKFold(n_splits=3, random_state=42, shuffle=True),\n",
       "                   estimator=Pipeline(steps=[('prep',\n",
       "                                              ColumnTransformer(transformers=[('numeric',\n",
       "                                                                               Pipeline(steps=[('imputer',\n",
       "                                                                                                SimpleImputer()),\n",
       "                                                                                               ('scaler',\n",
       "                                                                                                StandardScaler())]),\n",
       "                                                                               ['child_mort',\n",
       "                                                                                'exports',\n",
       "                                                                                'health',\n",
       "                                                                                'imports',\n",
       "                                                                                'income',\n",
       "                                                                                'inflation',\n",
       "                                                                                'life_expec',\n",
       "                                                                                'total_fer',\n",
       "                                                                                'gdpp'])])),\n",
       "                                             ('algo', SVC(probability=True))]),\n",
       "                   n_iter=50, n_jobs=-1,\n",
       "                   param_distributions={'algo__C': array([1.e-03, 1.e-02, 1.e-01, 1.e+00, 1.e+01, 1.e+02, 1.e+03]),\n",
       "                                        'algo__gamma': array([10, 35, 60, 85])},\n",
       "                   random_state=42, scoring='accuracy', verbose=1)"
      ]
     },
     "execution_count": 68,
     "metadata": {},
     "output_type": "execute_result"
    }
   ],
   "source": [
    "SVM_RS.fit(X_train,y_train)"
   ]
  },
  {
   "cell_type": "code",
   "execution_count": 69,
   "metadata": {},
   "outputs": [
    {
     "data": {
      "text/plain": [
       "{'algo__gamma': 10, 'algo__C': 0.001}"
      ]
     },
     "execution_count": 69,
     "metadata": {},
     "output_type": "execute_result"
    }
   ],
   "source": [
    "SVM_RS.best_params_"
   ]
  },
  {
   "cell_type": "code",
   "execution_count": 70,
   "metadata": {},
   "outputs": [],
   "source": [
    "SVM_Tuned_RS = SVM_RS.best_estimator_"
   ]
  },
  {
   "cell_type": "code",
   "execution_count": 71,
   "metadata": {},
   "outputs": [],
   "source": [
    "y_ts_SVM1 = SVM_Tuned_RS.predict(X_test)"
   ]
  },
  {
   "cell_type": "code",
   "execution_count": 72,
   "metadata": {},
   "outputs": [
    {
     "name": "stdout",
     "output_type": "stream",
     "text": [
      "              precision    recall  f1-score   support\n",
      "\n",
      "           0       0.59      1.00      0.74        20\n",
      "           1       0.00      0.00      0.00        14\n",
      "\n",
      "    accuracy                           0.59        34\n",
      "   macro avg       0.29      0.50      0.37        34\n",
      "weighted avg       0.35      0.59      0.44        34\n",
      "\n"
     ]
    }
   ],
   "source": [
    "print(classification_report(y_test, y_ts_SVM1))"
   ]
  },
  {
   "cell_type": "code",
   "execution_count": null,
   "metadata": {},
   "outputs": [],
   "source": []
  },
  {
   "cell_type": "markdown",
   "metadata": {},
   "source": [
    "### SVM - Fine Tuning"
   ]
  },
  {
   "cell_type": "code",
   "execution_count": 73,
   "metadata": {},
   "outputs": [],
   "source": [
    "param_SVM2 = {\n",
    "    'algo__C' : np.logspace(-3 , 3, 7), #semakin tinggi, semakin kompleks. kalau overfit, kurangin nilai C\n",
    "    \"algo__gamma\" : np.arange(10, 20, 2), #semakin tinggi, semakin kompleks. kalau overfit, kurangin nilai gamma\n",
    "}"
   ]
  },
  {
   "cell_type": "code",
   "execution_count": 74,
   "metadata": {},
   "outputs": [],
   "source": [
    "# {'algo__gamma': 10, 'algo__class_weight': {0: 0.1, 1: 0.9}, 'algo__C': 10.0}"
   ]
  },
  {
   "cell_type": "code",
   "execution_count": 75,
   "metadata": {},
   "outputs": [],
   "source": [
    "SVM_GS = GridSearchCV(pipe_SVM, param_SVM2, cv = skf, scoring = 'accuracy', n_jobs = -1, verbose=1)"
   ]
  },
  {
   "cell_type": "code",
   "execution_count": 76,
   "metadata": {},
   "outputs": [
    {
     "name": "stdout",
     "output_type": "stream",
     "text": [
      "Fitting 3 folds for each of 35 candidates, totalling 105 fits\n"
     ]
    },
    {
     "name": "stderr",
     "output_type": "stream",
     "text": [
      "[Parallel(n_jobs=-1)]: Using backend LokyBackend with 8 concurrent workers.\n",
      "[Parallel(n_jobs=-1)]: Done  53 tasks      | elapsed:    0.3s\n",
      "[Parallel(n_jobs=-1)]: Done  90 out of 105 | elapsed:    0.4s remaining:    0.0s\n",
      "[Parallel(n_jobs=-1)]: Done 105 out of 105 | elapsed:    0.5s finished\n"
     ]
    },
    {
     "data": {
      "text/plain": [
       "GridSearchCV(cv=StratifiedKFold(n_splits=3, random_state=42, shuffle=True),\n",
       "             estimator=Pipeline(steps=[('prep',\n",
       "                                        ColumnTransformer(transformers=[('numeric',\n",
       "                                                                         Pipeline(steps=[('imputer',\n",
       "                                                                                          SimpleImputer()),\n",
       "                                                                                         ('scaler',\n",
       "                                                                                          StandardScaler())]),\n",
       "                                                                         ['child_mort',\n",
       "                                                                          'exports',\n",
       "                                                                          'health',\n",
       "                                                                          'imports',\n",
       "                                                                          'income',\n",
       "                                                                          'inflation',\n",
       "                                                                          'life_expec',\n",
       "                                                                          'total_fer',\n",
       "                                                                          'gdpp'])])),\n",
       "                                       ('algo', SVC(probability=True))]),\n",
       "             n_jobs=-1,\n",
       "             param_grid={'algo__C': array([1.e-03, 1.e-02, 1.e-01, 1.e+00, 1.e+01, 1.e+02, 1.e+03]),\n",
       "                         'algo__gamma': array([10, 12, 14, 16, 18])},\n",
       "             scoring='accuracy', verbose=1)"
      ]
     },
     "execution_count": 76,
     "metadata": {},
     "output_type": "execute_result"
    }
   ],
   "source": [
    "SVM_GS.fit(X_train, y_train)"
   ]
  },
  {
   "cell_type": "code",
   "execution_count": 77,
   "metadata": {},
   "outputs": [
    {
     "data": {
      "text/plain": [
       "{'algo__C': 0.001, 'algo__gamma': 10}"
      ]
     },
     "execution_count": 77,
     "metadata": {},
     "output_type": "execute_result"
    }
   ],
   "source": [
    "SVM_GS.best_params_"
   ]
  },
  {
   "cell_type": "code",
   "execution_count": 78,
   "metadata": {},
   "outputs": [],
   "source": [
    "SVM_Tuned_GS = SVM_GS.best_estimator_"
   ]
  },
  {
   "cell_type": "code",
   "execution_count": 79,
   "metadata": {},
   "outputs": [],
   "source": [
    "y_ts_SVM2 = SVM_Tuned_GS.predict(X_test)"
   ]
  },
  {
   "cell_type": "code",
   "execution_count": 80,
   "metadata": {},
   "outputs": [
    {
     "name": "stdout",
     "output_type": "stream",
     "text": [
      "              precision    recall  f1-score   support\n",
      "\n",
      "           0       0.59      1.00      0.74        20\n",
      "           1       0.00      0.00      0.00        14\n",
      "\n",
      "    accuracy                           0.59        34\n",
      "   macro avg       0.29      0.50      0.37        34\n",
      "weighted avg       0.35      0.59      0.44        34\n",
      "\n"
     ]
    }
   ],
   "source": [
    "print(classification_report(y_test, y_ts_SVM2))"
   ]
  },
  {
   "cell_type": "code",
   "execution_count": 85,
   "metadata": {},
   "outputs": [],
   "source": [
    "y_tr_SVM2 = SVM_Tuned_GS.predict(X_train)"
   ]
  },
  {
   "cell_type": "code",
   "execution_count": 86,
   "metadata": {},
   "outputs": [
    {
     "name": "stdout",
     "output_type": "stream",
     "text": [
      "              precision    recall  f1-score   support\n",
      "\n",
      "           0       0.59      1.00      0.75        79\n",
      "           1       0.00      0.00      0.00        54\n",
      "\n",
      "    accuracy                           0.59       133\n",
      "   macro avg       0.30      0.50      0.37       133\n",
      "weighted avg       0.35      0.59      0.44       133\n",
      "\n"
     ]
    }
   ],
   "source": [
    "print(classification_report(y_train, y_tr_SVM2))"
   ]
  },
  {
   "cell_type": "markdown",
   "metadata": {},
   "source": [
    "# Conclusion on Data Modelling"
   ]
  },
  {
   "cell_type": "markdown",
   "metadata": {},
   "source": [
    "the best model is Random Forest Classification after Fine Tuning that has accuracy score 0.99 on trainig and 0.97 on test"
   ]
  }
 ],
 "metadata": {
  "kernelspec": {
   "display_name": "Python 3",
   "language": "python",
   "name": "python3"
  },
  "language_info": {
   "codemirror_mode": {
    "name": "ipython",
    "version": 3
   },
   "file_extension": ".py",
   "mimetype": "text/x-python",
   "name": "python",
   "nbconvert_exporter": "python",
   "pygments_lexer": "ipython3",
   "version": "3.8.5"
  }
 },
 "nbformat": 4,
 "nbformat_minor": 4
}
